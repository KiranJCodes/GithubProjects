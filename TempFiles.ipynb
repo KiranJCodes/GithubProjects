{
 "cells": [
  {
   "cell_type": "code",
   "execution_count": 3,
   "id": "a91999fc-bae8-4939-8732-d66ffa7806b4",
   "metadata": {},
   "outputs": [
    {
     "name": "stderr",
     "output_type": "stream",
     "text": [
      "C:\\Users\\DAYDREAMER\\AppData\\Local\\Temp\\ipykernel_40888\\2037340855.py:3: DtypeWarning: Columns (76) have mixed types. Specify dtype option on import or set low_memory=False.\n",
      "  data = pd.read_csv(\"fifa21 raw data v2.csv\")\n"
     ]
    }
   ],
   "source": [
    "import pandas as pd\n",
    "\n",
    "data = pd.read_csv(\"fifa21 raw data v2.csv\")"
   ]
  },
  {
   "cell_type": "code",
   "execution_count": 7,
   "id": "1a24b1d2-2e9e-4aa9-8b67-f1266d0ab439",
   "metadata": {},
   "outputs": [],
   "source": [
    "data = data.head(2000)"
   ]
  },
  {
   "cell_type": "code",
   "execution_count": 8,
   "id": "6d28d3b7-80ed-482c-b7bb-f32fe0b27fe3",
   "metadata": {},
   "outputs": [
    {
     "name": "stdout",
     "output_type": "stream",
     "text": [
      "<class 'pandas.core.frame.DataFrame'>\n",
      "RangeIndex: 2000 entries, 0 to 1999\n",
      "Data columns (total 77 columns):\n",
      " #   Column            Non-Null Count  Dtype \n",
      "---  ------            --------------  ----- \n",
      " 0   ID                2000 non-null   int64 \n",
      " 1   Name              2000 non-null   object\n",
      " 2   LongName          2000 non-null   object\n",
      " 3   photoUrl          2000 non-null   object\n",
      " 4   playerUrl         2000 non-null   object\n",
      " 5   Nationality       2000 non-null   object\n",
      " 6   Age               2000 non-null   int64 \n",
      " 7   ↓OVA              2000 non-null   int64 \n",
      " 8   POT               2000 non-null   int64 \n",
      " 9   Club              2000 non-null   object\n",
      " 10  Contract          2000 non-null   object\n",
      " 11  Positions         2000 non-null   object\n",
      " 12  Height            2000 non-null   object\n",
      " 13  Weight            2000 non-null   object\n",
      " 14  Preferred Foot    2000 non-null   object\n",
      " 15  BOV               2000 non-null   int64 \n",
      " 16  Best Position     2000 non-null   object\n",
      " 17  Joined            2000 non-null   object\n",
      " 18  Loan Date End     99 non-null     object\n",
      " 19  Value             2000 non-null   object\n",
      " 20  Wage              2000 non-null   object\n",
      " 21  Release Clause    2000 non-null   object\n",
      " 22  Attacking         2000 non-null   int64 \n",
      " 23  Crossing          2000 non-null   int64 \n",
      " 24  Finishing         2000 non-null   int64 \n",
      " 25  Heading Accuracy  2000 non-null   int64 \n",
      " 26  Short Passing     2000 non-null   int64 \n",
      " 27  Volleys           2000 non-null   int64 \n",
      " 28  Skill             2000 non-null   int64 \n",
      " 29  Dribbling         2000 non-null   int64 \n",
      " 30  Curve             2000 non-null   int64 \n",
      " 31  FK Accuracy       2000 non-null   int64 \n",
      " 32  Long Passing      2000 non-null   int64 \n",
      " 33  Ball Control      2000 non-null   int64 \n",
      " 34  Movement          2000 non-null   int64 \n",
      " 35  Acceleration      2000 non-null   int64 \n",
      " 36  Sprint Speed      2000 non-null   int64 \n",
      " 37  Agility           2000 non-null   int64 \n",
      " 38  Reactions         2000 non-null   int64 \n",
      " 39  Balance           2000 non-null   int64 \n",
      " 40  Power             2000 non-null   int64 \n",
      " 41  Shot Power        2000 non-null   int64 \n",
      " 42  Jumping           2000 non-null   int64 \n",
      " 43  Stamina           2000 non-null   int64 \n",
      " 44  Strength          2000 non-null   int64 \n",
      " 45  Long Shots        2000 non-null   int64 \n",
      " 46  Mentality         2000 non-null   int64 \n",
      " 47  Aggression        2000 non-null   int64 \n",
      " 48  Interceptions     2000 non-null   int64 \n",
      " 49  Positioning       2000 non-null   int64 \n",
      " 50  Vision            2000 non-null   int64 \n",
      " 51  Penalties         2000 non-null   int64 \n",
      " 52  Composure         2000 non-null   int64 \n",
      " 53  Defending         2000 non-null   int64 \n",
      " 54  Marking           2000 non-null   int64 \n",
      " 55  Standing Tackle   2000 non-null   int64 \n",
      " 56  Sliding Tackle    2000 non-null   int64 \n",
      " 57  Goalkeeping       2000 non-null   int64 \n",
      " 58  GK Diving         2000 non-null   int64 \n",
      " 59  GK Handling       2000 non-null   int64 \n",
      " 60  GK Kicking        2000 non-null   int64 \n",
      " 61  GK Positioning    2000 non-null   int64 \n",
      " 62  GK Reflexes       2000 non-null   int64 \n",
      " 63  Total Stats       2000 non-null   int64 \n",
      " 64  Base Stats        2000 non-null   int64 \n",
      " 65  W/F               2000 non-null   object\n",
      " 66  SM                2000 non-null   object\n",
      " 67  A/W               2000 non-null   object\n",
      " 68  D/W               2000 non-null   object\n",
      " 69  IR                2000 non-null   object\n",
      " 70  PAC               2000 non-null   int64 \n",
      " 71  SHO               2000 non-null   int64 \n",
      " 72  PAS               2000 non-null   int64 \n",
      " 73  DRI               2000 non-null   int64 \n",
      " 74  DEF               2000 non-null   int64 \n",
      " 75  PHY               2000 non-null   int64 \n",
      " 76  Hits              2000 non-null   object\n",
      "dtypes: int64(54), object(23)\n",
      "memory usage: 1.2+ MB\n"
     ]
    }
   ],
   "source": []
  },
  {
   "cell_type": "code",
   "execution_count": null,
   "id": "160851b2-095e-4c23-b25b-e70d3de2560b",
   "metadata": {},
   "outputs": [],
   "source": []
  }
 ],
 "metadata": {
  "kernelspec": {
   "display_name": "Python 3 (ipykernel)",
   "language": "python",
   "name": "python3"
  },
  "language_info": {
   "codemirror_mode": {
    "name": "ipython",
    "version": 3
   },
   "file_extension": ".py",
   "mimetype": "text/x-python",
   "name": "python",
   "nbconvert_exporter": "python",
   "pygments_lexer": "ipython3",
   "version": "3.11.7"
  }
 },
 "nbformat": 4,
 "nbformat_minor": 5
}
