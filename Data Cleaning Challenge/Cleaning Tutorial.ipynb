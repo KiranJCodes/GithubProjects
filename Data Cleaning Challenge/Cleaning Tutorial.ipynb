{
 "cells": [
  {
   "cell_type": "code",
   "execution_count": 87,
   "id": "95509b32-0adb-4ed2-b44f-3a88c32f5e5e",
   "metadata": {},
   "outputs": [],
   "source": [
    "import pandas as pd\n",
    "import numpy as np"
   ]
  },
  {
   "cell_type": "code",
   "execution_count": 88,
   "id": "c47e83b4-d0ad-4ac0-8ed2-b9ddd5cda6d4",
   "metadata": {},
   "outputs": [],
   "source": [
    "## read the Dataset\n",
    "# https://www.kaggle.com/code/muhammedafsalpm/eda-fifa-21"
   ]
  },
  {
   "cell_type": "code",
   "execution_count": 89,
   "id": "2c787550-cc7e-4a1c-8af9-8cb52e7e15db",
   "metadata": {},
   "outputs": [],
   "source": [
    "data = pd.read_csv(\"FIFA21.csv\")"
   ]
  },
  {
   "cell_type": "code",
   "execution_count": 90,
   "id": "8d13539f-5e8e-4d55-96fc-d727406f718b",
   "metadata": {},
   "outputs": [],
   "source": [
    "#data"
   ]
  },
  {
   "cell_type": "markdown",
   "id": "f526fc49-a9de-471a-a59a-c8010e759ace",
   "metadata": {},
   "source": [
    "# Remove Non Essentital Columns\n",
    "\n"
   ]
  },
  {
   "cell_type": "code",
   "execution_count": 91,
   "id": "8d4d1145-8a76-4ccd-8ade-ee33d027f473",
   "metadata": {},
   "outputs": [
    {
     "name": "stdout",
     "output_type": "stream",
     "text": [
      "Index(['Unnamed: 0', 'ID', 'Age', '↓OVA', 'POT', 'Contract', 'Height',\n",
      "       'Weight', 'Preferred Foot', 'BOV', 'Best Position', 'Value', 'Wage',\n",
      "       'Release Clause', 'Attacking', 'Crossing', 'Finishing',\n",
      "       'Heading Accuracy'],\n",
      "      dtype='object')\n"
     ]
    }
   ],
   "source": [
    "drops = {\"N\":['Name',\"photoUrl\",'playerUrl','Joined','Loan Date End','Club','Positions','LongName','Nationality']}\n",
    "data = data.drop(drops['N'], axis=1)\n",
    "data = data.iloc[:, :18] # Select only the first 18 columns (index 0 to 17)\n",
    "print(data.columns)"
   ]
  },
  {
   "cell_type": "code",
   "execution_count": 92,
   "id": "c6389143-de76-4deb-aea5-992805176bd5",
   "metadata": {},
   "outputs": [],
   "source": [
    "# Remove Any Non Numeric Charecters "
   ]
  },
  {
   "cell_type": "code",
   "execution_count": 93,
   "id": "66888a6c-d565-4351-acbe-80bc8f987b15",
   "metadata": {},
   "outputs": [],
   "source": [
    "#data"
   ]
  },
  {
   "cell_type": "code",
   "execution_count": 105,
   "id": "ca94c381-ca36-4dc7-98cf-b7b5c593c650",
   "metadata": {},
   "outputs": [],
   "source": [
    "converted_heights = []\n",
    "for height in data['Height']:\n",
    "    # Check if the height is in 'ft' and 'inches' format (e.g., \"5'11\\\"\")\n",
    "    if \"'\" in height and \"\\\"\" in height:\n",
    "        # Extract feet and inches from the string\n",
    "        feet, inches = height.split(\"'\")\n",
    "        inches = inches.replace(\"\\\"\", \"\")  # Remove the closing quote symbol\n",
    "        # Convert to total inches\n",
    "        total_inches = int(feet) * 12 + int(inches)\n",
    "        # Convert inches to centimeters\n",
    "        height_cm = total_inches * 2.54\n",
    "    else:\n",
    "        # Convert directly if height is already in cm (e.g., '180')\n",
    "        height_cm = int(height.replace(\"cm\", \"\").strip())\n",
    "        \n",
    "    converted_heights.append(height_cm)\n",
    "data['Height'] = converted_heights"
   ]
  },
  {
   "cell_type": "code",
   "execution_count": 106,
   "id": "3596ed58-4edd-4e60-ae37-b6242539c548",
   "metadata": {},
   "outputs": [],
   "source": [
    "converted_weights = []\n",
    "for i in data['Weight']:\n",
    "    if 'lbs' in i:\n",
    "        weight_value = ''.join(filter(str.isdigit, i))  # Remove non-numeric characters\n",
    "        weight_kg = int(weight_value) * 0.453592  # Convert lbs to kg\n",
    "    elif 'kg' in i:\n",
    "        weight_value = ''.join(filter(str.isdigit, i))  # Remove non-numeric characters\n",
    "        weight_kg = int(weight_value)  # Already in kg, just convert to integer\n",
    "    converted_weights.append(weight_kg)\n",
    "\n",
    "data['Weight'] = converted_weights"
   ]
  },
  {
   "cell_type": "code",
   "execution_count": 95,
   "id": "7af3587e-fcf3-42c2-b293-0b165daaa2dd",
   "metadata": {},
   "outputs": [],
   "source": [
    "def clean_value(value):\n",
    "    # Remove the '€' symbol and convert M (Million) or K (Thousand) to numeric\n",
    "    if 'M' in value:\n",
    "        return float(value.replace('€', '').replace('M', '')) * 1_000_000\n",
    "    elif 'K' in value:\n",
    "        return float(value.replace('€', '').replace('K', '')) * 1_000\n",
    "    else:\n",
    "        # Handle unexpected formats (optional)\n",
    "        return float(value.replace('€', ''))\n",
    "\n",
    "# Apply the function to the 'Value' column\n",
    "data['Value'] = data['Value'].apply(clean_value)"
   ]
  },
  {
   "cell_type": "code",
   "execution_count": 96,
   "id": "00bc13b7-65f0-4690-aa1a-39cc9c4fb286",
   "metadata": {},
   "outputs": [],
   "source": [
    "def clean_wage(value):\n",
    "    # Remove the '€' symbol and convert M (Million) or K (Thousand) to numeric\n",
    "    if 'M' in value:\n",
    "        return float(value.replace('€', '').replace('M', '')) * 1_000_000\n",
    "    elif 'K' in value:\n",
    "        return float(value.replace('€', '').replace('K', '')) * 1_000\n",
    "    else:\n",
    "        # Handle unexpected formats (optional)\n",
    "        return float(value.replace('€', ''))\n",
    "\n",
    "# Apply the function to the 'Value' column\n",
    "data['Wage'] = data['Wage'].apply(clean_wage)"
   ]
  },
  {
   "cell_type": "code",
   "execution_count": 97,
   "id": "6647e199-9c83-4f5c-9cd0-61dcb40632be",
   "metadata": {},
   "outputs": [],
   "source": [
    "def clean_clause(value):\n",
    "    # Remove the '€' symbol and convert M (Million) or K (Thousand) to numeric\n",
    "    if 'M' in value:\n",
    "        return float(value.replace('€', '').replace('M', '')) * 1_000_000\n",
    "    elif 'K' in value:\n",
    "        return float(value.replace('€', '').replace('K', '')) * 1_000\n",
    "    else:\n",
    "        # Handle unexpected formats (optional)\n",
    "        return 0\n",
    "\n",
    "# Apply the function to the 'Value' column\n",
    "data['Release Clause'] = data['Release Clause'].apply(clean_clause)"
   ]
  },
  {
   "cell_type": "code",
   "execution_count": 107,
   "id": "7a9a6b75-5a82-46d8-8198-a4bd24de783d",
   "metadata": {},
   "outputs": [
    {
     "data": {
      "text/plain": [
       "Unnamed: 0            int64\n",
       "ID                    int64\n",
       "Age                   int64\n",
       "↓OVA                  int64\n",
       "POT                   int64\n",
       "Height              float64\n",
       "Weight              float64\n",
       "Preferred Foot        int64\n",
       "BOV                   int64\n",
       "Best Position         int64\n",
       "Value               float64\n",
       "Wage                float64\n",
       "Release Clause      float64\n",
       "Attacking             int64\n",
       "Crossing              int64\n",
       "Finishing             int64\n",
       "Heading Accuracy      int64\n",
       "start                 int32\n",
       "end                   int32\n",
       "loan                  int32\n",
       "dtype: object"
      ]
     },
     "execution_count": 107,
     "metadata": {},
     "output_type": "execute_result"
    }
   ],
   "source": [
    "data.dtypes"
   ]
  },
  {
   "cell_type": "code",
   "execution_count": 32,
   "id": "e9c0801a-fb14-493c-8119-18f54631186e",
   "metadata": {},
   "outputs": [],
   "source": [
    "# Make the dataset friendly for one hot encoding"
   ]
  },
  {
   "cell_type": "code",
   "execution_count": 99,
   "id": "f1366d11-1cc5-4b6c-9088-4a2b715a66e5",
   "metadata": {},
   "outputs": [],
   "source": [
    "data['Preferred Foot'] = data['Preferred Foot'].map({'Left': 0, 'Right': 1})"
   ]
  },
  {
   "cell_type": "code",
   "execution_count": 100,
   "id": "85253a96-71cc-463f-bb6c-90920ce17e12",
   "metadata": {},
   "outputs": [],
   "source": [
    "data['Best Position'] = data['Best Position'].map({'ST': 1, 'CF': 2,'LW': 3, 'RW': 4,\n",
    "                                                    'CAM': 5, 'CDM': 6,'CM': 7, 'LM': 8,\n",
    "                                                    'RM': 9, 'GK': 0,'CB': 10, 'LB': 11,\n",
    "                                                    'RB': 12, 'RWB': 13,'LWB': 14})"
   ]
  },
  {
   "cell_type": "code",
   "execution_count": 80,
   "id": "d9491a06-8bd6-488a-ace7-839cf8419e84",
   "metadata": {},
   "outputs": [],
   "source": [
    "# Split columns if required. "
   ]
  },
  {
   "cell_type": "code",
   "execution_count": 101,
   "id": "5bea5e16-80e2-4208-9009-0078af812e41",
   "metadata": {},
   "outputs": [],
   "source": [
    "# Create new columns\n",
    "data['start'] = np.nan\n",
    "data['end'] = np.nan\n",
    "data['loan'] = 0\n",
    "\n",
    "# Function to process the Contract column\n",
    "def process_contract(contract):\n",
    "    if 'On Loan' in contract:\n",
    "        # Handle \"On Loan\" entries\n",
    "        parts = contract.split()\n",
    "        start_year = int(parts[-3])  # Extract the start year\n",
    "        return start_year, start_year + 2, 1\n",
    "    elif '~' in contract:\n",
    "        # Handle range entries\n",
    "        start_year, end_year = map(int, contract.split('~'))\n",
    "        return start_year, end_year, 0\n",
    "    elif 'Free' in contract:\n",
    "        return 0, 0, 0  # Default values for 'Free'\n",
    "    else:\n",
    "        # Handle standalone year\n",
    "        year = int(contract.strip())\n",
    "        return year, year + 2, 0\n",
    "\n",
    "# Apply function and split values into the new columns\n",
    "data[['start', 'end', 'loan']] = data['Contract'].apply(lambda x: pd.Series(process_contract(x)))\n",
    "\n",
    "# Convert to integers for clarity\n",
    "data['start'] = data['start'].astype(int)\n",
    "data['end'] = data['end'].astype(int)\n",
    "data['loan'] = data['loan'].astype(int)"
   ]
  },
  {
   "cell_type": "code",
   "execution_count": 103,
   "id": "82780c08-9bfc-4420-b1eb-9ae6a4bb230a",
   "metadata": {},
   "outputs": [],
   "source": [
    "\n",
    "data = data.drop(['Contract'], axis=1)\n"
   ]
  },
  {
   "cell_type": "code",
   "execution_count": null,
   "id": "ac49ca42-b192-47f9-a06a-f863d514bc76",
   "metadata": {},
   "outputs": [],
   "source": []
  }
 ],
 "metadata": {
  "kernelspec": {
   "display_name": "Python 3 (ipykernel)",
   "language": "python",
   "name": "python3"
  },
  "language_info": {
   "codemirror_mode": {
    "name": "ipython",
    "version": 3
   },
   "file_extension": ".py",
   "mimetype": "text/x-python",
   "name": "python",
   "nbconvert_exporter": "python",
   "pygments_lexer": "ipython3",
   "version": "3.11.7"
  }
 },
 "nbformat": 4,
 "nbformat_minor": 5
}
