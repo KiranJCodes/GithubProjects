{
 "cells": [
  {
   "cell_type": "code",
   "execution_count": 18,
   "id": "95509b32-0adb-4ed2-b44f-3a88c32f5e5e",
   "metadata": {},
   "outputs": [],
   "source": [
    "import pandas as pd"
   ]
  },
  {
   "cell_type": "code",
   "execution_count": 19,
   "id": "c47e83b4-d0ad-4ac0-8ed2-b9ddd5cda6d4",
   "metadata": {},
   "outputs": [],
   "source": [
    "## read the Dataset\n",
    "# https://www.kaggle.com/code/muhammedafsalpm/eda-fifa-21"
   ]
  },
  {
   "cell_type": "code",
   "execution_count": 20,
   "id": "2c787550-cc7e-4a1c-8af9-8cb52e7e15db",
   "metadata": {},
   "outputs": [],
   "source": [
    "data = pd.read_csv(\"FIFA21.csv\")"
   ]
  },
  {
   "cell_type": "code",
   "execution_count": 22,
   "id": "8d13539f-5e8e-4d55-96fc-d727406f718b",
   "metadata": {},
   "outputs": [],
   "source": [
    "#data"
   ]
  },
  {
   "cell_type": "markdown",
   "id": "f526fc49-a9de-471a-a59a-c8010e759ace",
   "metadata": {},
   "source": [
    "# Remove Non Essentital Columns\n",
    "\n"
   ]
  },
  {
   "cell_type": "code",
   "execution_count": 23,
   "id": "8d4d1145-8a76-4ccd-8ade-ee33d027f473",
   "metadata": {},
   "outputs": [
    {
     "name": "stdout",
     "output_type": "stream",
     "text": [
      "Index(['Unnamed: 0', 'ID', 'LongName', 'Nationality', 'Age', '↓OVA', 'POT',\n",
      "       'Club', 'Contract', 'Positions', 'Height', 'Weight', 'Preferred Foot',\n",
      "       'BOV', 'Best Position', 'Value', 'Wage', 'Release Clause'],\n",
      "      dtype='object')\n"
     ]
    }
   ],
   "source": [
    "drops = {\"N\":['Name',\"photoUrl\",'playerUrl','Joined','Loan Date End']}\n",
    "data = data.drop(drops['N'], axis=1)\n",
    "data = data.iloc[:, :18] # Select only the first 18 columns (index 0 to 17)\n",
    "print(data.columns)"
   ]
  },
  {
   "cell_type": "code",
   "execution_count": 24,
   "id": "c6389143-de76-4deb-aea5-992805176bd5",
   "metadata": {},
   "outputs": [],
   "source": [
    "# Remove Any Non Numeric Charecters "
   ]
  },
  {
   "cell_type": "code",
   "execution_count": 26,
   "id": "66888a6c-d565-4351-acbe-80bc8f987b15",
   "metadata": {},
   "outputs": [],
   "source": [
    "#data"
   ]
  },
  {
   "cell_type": "code",
   "execution_count": 27,
   "id": "79cd1a25-4769-46ad-8dac-6a097a912e65",
   "metadata": {},
   "outputs": [],
   "source": [
    "\n",
    "data['Club'] = data['Club'].str.replace('\\n', '', regex=True) # Remove \\n from clubs\n",
    "#data['Height'] = data['Height'].str.replace('cm', '', regex=True) # Remove cm from height\n",
    "\n",
    "\n",
    "    \n",
    "#data['Height'] = data['Height'].astype(int)\n"
   ]
  },
  {
   "cell_type": "code",
   "execution_count": 28,
   "id": "ca94c381-ca36-4dc7-98cf-b7b5c593c650",
   "metadata": {},
   "outputs": [],
   "source": [
    "converted_heights = []\n",
    "for height in data['Height']:\n",
    "    # Check if the height is in 'ft' and 'inches' format (e.g., \"5'11\\\"\")\n",
    "    if \"'\" in height and \"\\\"\" in height:\n",
    "        # Extract feet and inches from the string\n",
    "        feet, inches = height.split(\"'\")\n",
    "        inches = inches.replace(\"\\\"\", \"\")  # Remove the closing quote symbol\n",
    "        # Convert to total inches\n",
    "        total_inches = int(feet) * 12 + int(inches)\n",
    "        # Convert inches to centimeters\n",
    "        height_cm = total_inches * 2.54\n",
    "    else:\n",
    "        # Convert directly if height is already in cm (e.g., '180')\n",
    "        height_cm = int(height.replace(\"cm\", \"\").strip())\n",
    "        \n",
    "    converted_heights.append(height_cm)\n",
    "data['Height'] = converted_heights"
   ]
  },
  {
   "cell_type": "code",
   "execution_count": 29,
   "id": "3596ed58-4edd-4e60-ae37-b6242539c548",
   "metadata": {},
   "outputs": [],
   "source": [
    "converted_weights = []\n",
    "for i in data['Weight']:\n",
    "    if 'lbs' in i:\n",
    "        weight_value = ''.join(filter(str.isdigit, i))  # Remove non-numeric characters\n",
    "        weight_kg = int(weight_value) * 0.453592  # Convert lbs to kg\n",
    "    elif 'kg' in i:\n",
    "        weight_value = ''.join(filter(str.isdigit, i))  # Remove non-numeric characters\n",
    "        weight_kg = int(weight_value)  # Already in kg, just convert to integer\n",
    "    converted_weights.append(weight_kg)\n",
    "\n",
    "data['Weight'] = converted_weights"
   ]
  },
  {
   "cell_type": "code",
   "execution_count": 31,
   "id": "7a9a6b75-5a82-46d8-8198-a4bd24de783d",
   "metadata": {},
   "outputs": [
    {
     "data": {
      "text/plain": [
       "Unnamed: 0          int64\n",
       "ID                  int64\n",
       "LongName           object\n",
       "Nationality        object\n",
       "Age                 int64\n",
       "↓OVA                int64\n",
       "POT                 int64\n",
       "Club               object\n",
       "Contract           object\n",
       "Positions          object\n",
       "Height            float64\n",
       "Weight            float64\n",
       "Preferred Foot     object\n",
       "BOV                 int64\n",
       "Best Position      object\n",
       "Value              object\n",
       "Wage               object\n",
       "Release Clause     object\n",
       "dtype: object"
      ]
     },
     "execution_count": 31,
     "metadata": {},
     "output_type": "execute_result"
    }
   ],
   "source": [
    "data.dtypes"
   ]
  },
  {
   "cell_type": "code",
   "execution_count": 32,
   "id": "e9c0801a-fb14-493c-8119-18f54631186e",
   "metadata": {},
   "outputs": [],
   "source": [
    "# Make the dataset friendly for one hot encoding"
   ]
  },
  {
   "cell_type": "code",
   "execution_count": null,
   "id": "f1366d11-1cc5-4b6c-9088-4a2b715a66e5",
   "metadata": {},
   "outputs": [],
   "source": [
    "Preferred Foot"
   ]
  }
 ],
 "metadata": {
  "kernelspec": {
   "display_name": "Python 3 (ipykernel)",
   "language": "python",
   "name": "python3"
  },
  "language_info": {
   "codemirror_mode": {
    "name": "ipython",
    "version": 3
   },
   "file_extension": ".py",
   "mimetype": "text/x-python",
   "name": "python",
   "nbconvert_exporter": "python",
   "pygments_lexer": "ipython3",
   "version": "3.11.7"
  }
 },
 "nbformat": 4,
 "nbformat_minor": 5
}
