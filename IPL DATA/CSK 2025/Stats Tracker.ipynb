{
 "cells": [
  {
   "cell_type": "markdown",
   "id": "7af1945f-783e-46b9-a90f-bbb03fbbdcfc",
   "metadata": {},
   "source": [
    "## Ratings tracker\n",
    "the code below is for appsscript in googlecloud"
   ]
  },
  {
   "cell_type": "markdown",
   "id": "8570e031-d94b-4346-8c96-773891a80bfb",
   "metadata": {},
   "source": [
    "function createFormWithNames() {\n",
    "  // List of 12 names\n",
    "  const names = [\n",
    "    \"Player 1\", \"Player 2\", \"Player 3\", \"Player 4\", \"Player 5\", \"Player 6\",\n",
    "    \"Player 7\", \"Player 8\", \"Player 9\", \"Player 10\", \"Player 11\", \"Player 12\"\n",
    "  ];\n",
    "\n",
    "  // Get the active form\n",
    "  const form = FormApp.getActiveForm();\n",
    "\n",
    "  // Set the form title and description\n",
    "  form.setTitle(\"Player Rating Form\");\n",
    "  form.setDescription(\"Please rate each player on a scale of 1 to 10.\");\n",
    "\n",
    "  // Add a rating question for each name\n",
    "  names.forEach((name, index) => {\n",
    "    form.addScaleItem()\n",
    "      .setTitle(`Rate ${name}`)\n",
    "      .setBounds(1, 10) // Set the scale from 1 to 10\n",
    "      .setRequired(true); // Make the question required\n",
    "  });\n",
    "\n",
    "  // Notify the user that the form has been created\n",
    "  Logger.log(\"Form created successfully!\");\n",
    "}"
   ]
  },
  {
   "cell_type": "code",
   "execution_count": null,
   "id": "9d149ca6-7393-4a0a-aefc-d819eac50449",
   "metadata": {},
   "outputs": [],
   "source": []
  },
  {
   "cell_type": "code",
   "execution_count": 1,
   "id": "db351383-2182-4199-b0cf-f5e43f8d37cb",
   "metadata": {},
   "outputs": [],
   "source": [
    "# Create datasets for batsmen and bowlers"
   ]
  },
  {
   "cell_type": "code",
   "execution_count": null,
   "id": "bcba0b18-54a1-4659-b37b-8769ba2776cc",
   "metadata": {},
   "outputs": [],
   "source": [
    "# Bowlers"
   ]
  },
  {
   "cell_type": "code",
   "execution_count": null,
   "id": "c9474882-4fa6-4cd5-a0fe-f9ce3197bdf6",
   "metadata": {},
   "outputs": [],
   "source": [
    "# Main tracker\n",
    "Bowling_Stats_Main = {}\n",
    "# Match tracker\n",
    "Match = {}\n",
    "\n",
    "\n",
    "# Bowler deets\n",
    "players = {}\n",
    "# Figures\n",
    "figs = []"
   ]
  },
  {
   "cell_type": "code",
   "execution_count": 3,
   "id": "c0a00c0f-84eb-4744-927d-c002a2a1e0ea",
   "metadata": {},
   "outputs": [],
   "source": [
    "Bowlers = {'Match1':\n",
    "           {'Jadeja':[],'Noor':[]}\n",
    "          }"
   ]
  },
  {
   "cell_type": "code",
   "execution_count": null,
   "id": "25d58b1e-b081-4526-962e-95e0d85cec71",
   "metadata": {},
   "outputs": [],
   "source": [
    "Jadeja = {}"
   ]
  },
  {
   "cell_type": "code",
   "execution_count": null,
   "id": "31504f9c-c6b7-4d3e-af17-8ad13b3ea954",
   "metadata": {},
   "outputs": [],
   "source": [
    "Match1 = [wickets,balls,runs]\n",
    "matchinfo = {'overs': 4, 'runs': 25, 'wickets': 2, 'dots': 10, 'maidens': 1}"
   ]
  },
  {
   "cell_type": "code",
   "execution_count": 4,
   "id": "e9b271c7-18da-4b48-87bb-6f0e0b340d78",
   "metadata": {},
   "outputs": [],
   "source": [
    "# Batsmen"
   ]
  },
  {
   "cell_type": "code",
   "execution_count": 6,
   "id": "b5866d71-dd05-41af-8ed4-420ec45f9bf8",
   "metadata": {},
   "outputs": [],
   "source": [
    "matchinfobat = {'overs': 4, 'runs': 25,'4s':2,'6s':2,'OUT':0}"
   ]
  },
  {
   "cell_type": "code",
   "execution_count": 8,
   "id": "9b62d9cc-8df0-45f7-a4a2-0a0067f84695",
   "metadata": {},
   "outputs": [],
   "source": [
    "batsmen = {'Match1':\n",
    "          {'Conway':matchinfobat,\n",
    "          'Gaikwad':matchinfobat}\n",
    "          }"
   ]
  },
  {
   "cell_type": "code",
   "execution_count": 41,
   "id": "82187b66-604d-42fb-9e89-50bf3f56fc4d",
   "metadata": {},
   "outputs": [
    {
     "data": {
      "text/plain": [
       "dict_keys(['overs', 'runs', '4s', '6s', 'OUT'])"
      ]
     },
     "execution_count": 41,
     "metadata": {},
     "output_type": "execute_result"
    }
   ],
   "source": [
    "batsmen['Match1']['Conway'].keys()"
   ]
  },
  {
   "cell_type": "code",
   "execution_count": 51,
   "id": "00ee48a0-5539-4014-b376-cf6ead32ea4d",
   "metadata": {},
   "outputs": [
    {
     "name": "stdout",
     "output_type": "stream",
     "text": [
      "Conway\n",
      "_______________\n",
      " overs | 4\n",
      " runs | 25\n",
      " 4s | 2\n",
      " 6s | 2\n",
      " OUT | 0\n",
      "Gaikwad\n",
      "_______________\n",
      " overs | 4\n",
      " runs | 25\n",
      " 4s | 2\n",
      " 6s | 2\n",
      " OUT | 0\n"
     ]
    }
   ],
   "source": [
    "# Go through all Batsmen\n",
    "for i in batsmen:\n",
    "    # Go thorugh indivudual names\n",
    "    for x in batsmen[i]:\n",
    "        print(x)\n",
    "        print(\"_\"*15)\n",
    "        # Go through Ind stats\n",
    "        for stats in batsmen[i][x]:\n",
    "            print(f\" {stats} | {batsmen[i][x][stats]}\")\n"
   ]
  },
  {
   "cell_type": "code",
   "execution_count": 34,
   "id": "34e59738-3ece-4daa-816a-4c49233d973e",
   "metadata": {},
   "outputs": [
    {
     "name": "stdout",
     "output_type": "stream",
     "text": [
      "Conway\n",
      "Gaikwad\n"
     ]
    }
   ],
   "source": [
    "for i in batsmen[i]:\n",
    "    print(i)\n"
   ]
  },
  {
   "cell_type": "code",
   "execution_count": 23,
   "id": "c589e2d1-d00a-482e-afa8-faf20fd05fc1",
   "metadata": {},
   "outputs": [
    {
     "data": {
      "text/plain": [
       "dict_items([('Match1', {'Conway': {'overs': 4, 'runs': 25, '4s': 2, '6s': 2, 'OUT': 0}, 'Gaikwad': {'overs': 4, 'runs': 25, '4s': 2, '6s': 2, 'OUT': 0}})])"
      ]
     },
     "execution_count": 23,
     "metadata": {},
     "output_type": "execute_result"
    }
   ],
   "source": [
    "batsmen.items()"
   ]
  },
  {
   "cell_type": "code",
   "execution_count": 52,
   "id": "68a6c653-83aa-4c0d-abbf-1f8e6aada6a2",
   "metadata": {},
   "outputs": [],
   "source": [
    "# Webscraping"
   ]
  },
  {
   "cell_type": "code",
   "execution_count": 74,
   "id": "950218fa-d80f-43fc-b6cb-033c551a36df",
   "metadata": {},
   "outputs": [],
   "source": [
    "import pandas as pd\n",
    "import re\n",
    "from pathlib import Path\n",
    "\n",
    "def convert_google_sheet_url(url):\n",
    "    # Regular expression to match and capture the necessary part of the URL\n",
    "    pattern = r'https://docs\\.google\\.com/spreadsheets/d/([a-zA-Z0-9-_]+)(/edit#gid=(\\d+)|/edit.*)?'\n",
    "\n",
    "    # Replace function to construct the new URL for CSV export\n",
    "    # If gid is present in the URL, it includes it in the export URL, otherwise, it's omitted\n",
    "    replacement = lambda m: f'https://docs.google.com/spreadsheets/d/{m.group(1)}/export?' + (f'gid={m.group(3)}&' if m.group(3) else '') + 'format=csv'\n",
    "\n",
    "    # Replace using regex\n",
    "    new_url = re.sub(pattern, replacement, url)\n",
    "\n",
    "    # Add it to a dataset\n",
    "    data = df = pd.read_csv(new_url)\n",
    "    return data\n",
    "\n",
    "data = convert_google_sheet_url(\"https://docs.google.com/spreadsheets/d/1-V1vdP9zblKaU97gUUsREnIBiGjaTSNmNiD4p5OjNJ0/edit?gid=333621817#gid=333621817\")"
   ]
  },
  {
   "cell_type": "code",
   "execution_count": 94,
   "id": "17bf3aec-11ba-4b9e-aede-62da48e17772",
   "metadata": {},
   "outputs": [
    {
     "name": "stdout",
     "output_type": "stream",
     "text": [
      "Noor Ahmed : 9.71\n",
      "Rutraj Gaikwad: 9.57\n",
      "Rachin Ravindra : 8.81\n",
      "Khaleel Ahmed : 8.67\n",
      "MS Dhoni: 7.38\n",
      "Ravichandra Ashwin : 7.29\n",
      "Ravindra Jadeja: 6.67\n",
      "Nathan Ellis: 6.05\n",
      "Shivam Dube: 3.86\n",
      "Sam Curran: 2.76\n",
      "Rahul Tripati: 2.57\n",
      "Deepak Hooda: 2.43\n",
      "__________________________________________________\n",
      "🏆 Top 3:\n",
      "__________________________________________________\n",
      "Noor Ahmed : 9.71\n",
      "Rutraj Gaikwad: 9.57\n",
      "Rachin Ravindra : 8.81\n",
      "__________________________________________________\n",
      "\n",
      "⚠️ Needs Improvement:\n",
      "__________________________________________________\n",
      "Deepak Hooda: 2.43\n",
      "Rahul Tripati: 2.57\n",
      "Sam Curran: 2.76\n"
     ]
    }
   ],
   "source": [
    "averages = data.iloc[:,1:].mean()  # Returns average for each player (column)\n",
    "match1_ratings = compile(data.iloc[:,1:])"
   ]
  },
  {
   "cell_type": "code",
   "execution_count": 93,
   "id": "de4fe879-eddd-448f-b061-1685f5424134",
   "metadata": {},
   "outputs": [],
   "source": [
    "def compile(D):\n",
    "    averages = D.mean()  # Returns average for each player (column)\n",
    "    sorted = averages.sort_values(ascending=False)\n",
    "    top_3 = averages.nlargest(3)\n",
    "    bottom_3 = averages.nsmallest(3)\n",
    "\n",
    "     \n",
    "    for player, rating in sorted.items():\n",
    "        print(f\"{player}: {rating:.2f}\")\n",
    "       \n",
    "    print(\"_\"*50)\n",
    "    print(\"🏆 Top 3:\")\n",
    "    print(\"_\"*50)\n",
    "    for player, rating in top_3.items():\n",
    "        print(f\"{player}: {rating:.2f}\")\n",
    "\n",
    "    print(\"_\"*50)\n",
    "    print(\"\\n⚠️ Needs Improvement:\")\n",
    "    print(\"_\"*50)\n",
    "    for player, rating in bottom_3.items():\n",
    "        print(f\"{player}: {rating:.2f}\")\n",
    "    return sorted"
   ]
  },
  {
   "cell_type": "code",
   "execution_count": 102,
   "id": "e53b8c4f-3072-491c-80b4-a5cef2a0b9d7",
   "metadata": {},
   "outputs": [],
   "source": [
    "def update_csv(Title,Ratings):\n",
    "    # Create or update CSV\n",
    "    csv_path = \"Compiled_ratings.csv\"\n",
    "    if Path(csv_path).exists():\n",
    "        # Load existing data\n",
    "        df = pd.read_csv(csv_path)\n",
    "    else:\n",
    "        # Create new DataFrame\n",
    "        df = pd.DataFrame()\n",
    "    \n",
    "    # Add/update match data\n",
    "    df[f'{Title}'] = pd.Series({Ratings})\n",
    "    \n",
    "    # Save to CSV\n",
    "    df.to_csv(csv_path)"
   ]
  },
  {
   "cell_type": "code",
   "execution_count": 104,
   "id": "e8d85519-8530-4447-9d03-024ffa89a7d7",
   "metadata": {},
   "outputs": [],
   "source": [
    "def update_csv(Title, Ratings):\n",
    "    \"\"\"\n",
    "    Update CSV with new match ratings\n",
    "    Args:\n",
    "        Title: str - Match identifier (e.g., 'Delhi', 'Bangalore')\n",
    "        Ratings: dict - {player_name: rating} or pandas Series\n",
    "    \"\"\"\n",
    "    csv_path = \"Compiled_ratings.csv\"\n",
    "    \n",
    "    # Convert Ratings to Series if it's a dict\n",
    "    if isinstance(Ratings, dict):\n",
    "        Ratings = pd.Series(Ratings)\n",
    "    \n",
    "    # Ensure Ratings is a Series with player names as index\n",
    "    Ratings = Ratings.rename(Title).round(2)\n",
    "    \n",
    "    if Path(csv_path).exists():\n",
    "        # Load existing data with player names as index\n",
    "        df = pd.read_csv(csv_path, index_col=0)\n",
    "        \n",
    "        # Merge new ratings\n",
    "        df = df.join(Ratings, how='outer')\n",
    "    else:\n",
    "        # Create new DataFrame from ratings\n",
    "        df = pd.DataFrame(Ratings)\n",
    "    \n",
    "    # Save to CSV\n",
    "    df.to_csv(csv_path)\n",
    "    return df"
   ]
  },
  {
   "cell_type": "code",
   "execution_count": 105,
   "id": "2a143778-87c1-452b-b80b-3c9312eb3d6e",
   "metadata": {},
   "outputs": [
    {
     "ename": "AttributeError",
     "evalue": "'zip' object has no attribute 'rename'",
     "output_type": "error",
     "traceback": [
      "\u001b[1;31m---------------------------------------------------------------------------\u001b[0m",
      "\u001b[1;31mAttributeError\u001b[0m                            Traceback (most recent call last)",
      "Cell \u001b[1;32mIn[105], line 1\u001b[0m\n\u001b[1;32m----> 1\u001b[0m update_csv(\u001b[38;5;124m\"\u001b[39m\u001b[38;5;124mMumbai\u001b[39m\u001b[38;5;124m\"\u001b[39m,match1_ratings\u001b[38;5;241m.\u001b[39mitems())\n",
      "Cell \u001b[1;32mIn[104], line 15\u001b[0m, in \u001b[0;36mupdate_csv\u001b[1;34m(Title, Ratings)\u001b[0m\n\u001b[0;32m     12\u001b[0m     Ratings \u001b[38;5;241m=\u001b[39m pd\u001b[38;5;241m.\u001b[39mSeries(Ratings)\n\u001b[0;32m     14\u001b[0m \u001b[38;5;66;03m# Ensure Ratings is a Series with player names as index\u001b[39;00m\n\u001b[1;32m---> 15\u001b[0m Ratings \u001b[38;5;241m=\u001b[39m Ratings\u001b[38;5;241m.\u001b[39mrename(Title)\u001b[38;5;241m.\u001b[39mround(\u001b[38;5;241m2\u001b[39m)\n\u001b[0;32m     17\u001b[0m \u001b[38;5;28;01mif\u001b[39;00m Path(csv_path)\u001b[38;5;241m.\u001b[39mexists():\n\u001b[0;32m     18\u001b[0m     \u001b[38;5;66;03m# Load existing data with player names as index\u001b[39;00m\n\u001b[0;32m     19\u001b[0m     df \u001b[38;5;241m=\u001b[39m pd\u001b[38;5;241m.\u001b[39mread_csv(csv_path, index_col\u001b[38;5;241m=\u001b[39m\u001b[38;5;241m0\u001b[39m)\n",
      "\u001b[1;31mAttributeError\u001b[0m: 'zip' object has no attribute 'rename'"
     ]
    }
   ],
   "source": [
    "update_csv(\"Mumbai\",match1_ratings.items())"
   ]
  },
  {
   "cell_type": "code",
   "execution_count": 98,
   "id": "ac02ea4d-a13c-4c11-8029-2e5ac1953f94",
   "metadata": {},
   "outputs": [
    {
     "name": "stdout",
     "output_type": "stream",
     "text": [
      "('Noor Ahmed ', 9.714285714285714)\n",
      "('Rutraj Gaikwad', 9.571428571428571)\n",
      "('Rachin Ravindra ', 8.80952380952381)\n",
      "('Khaleel Ahmed ', 8.666666666666666)\n",
      "('MS Dhoni', 7.380952380952381)\n",
      "('Ravichandra Ashwin ', 7.285714285714286)\n",
      "('Ravindra Jadeja', 6.666666666666667)\n",
      "('Nathan Ellis', 6.0476190476190474)\n",
      "('Shivam Dube', 3.857142857142857)\n",
      "('Sam Curran', 2.761904761904762)\n",
      "('Rahul Tripati', 2.5714285714285716)\n",
      "('Deepak Hooda', 2.4285714285714284)\n"
     ]
    }
   ],
   "source": [
    "for i in match1_ratings.items():\n",
    "    print(i)"
   ]
  },
  {
   "cell_type": "code",
   "execution_count": 101,
   "id": "92d4f83f-f8c7-4173-a3b8-d8825e1870e4",
   "metadata": {},
   "outputs": [
    {
     "data": {
      "text/plain": [
       "pandas.core.series.Series"
      ]
     },
     "execution_count": 101,
     "metadata": {},
     "output_type": "execute_result"
    }
   ],
   "source": [
    "type(match1_ratings)"
   ]
  },
  {
   "cell_type": "code",
   "execution_count": 60,
   "id": "175369fb-516c-4baf-a955-29619d3d9a7d",
   "metadata": {},
   "outputs": [
    {
     "data": {
      "text/plain": [
       "Khaleel Ahmed          8.666667\n",
       "MS Dhoni               7.380952\n",
       "Ravichandra Ashwin     7.285714\n",
       "Ravindra Jadeja        6.666667\n",
       "Nathan Ellis           6.047619\n",
       "Shivam Dube            3.857143\n",
       "dtype: float64"
      ]
     },
     "execution_count": 60,
     "metadata": {},
     "output_type": "execute_result"
    }
   ],
   "source": [
    "sorted[3:-3]"
   ]
  },
  {
   "cell_type": "code",
   "execution_count": null,
   "id": "49d0965d-fed3-49ee-a87b-1a63151bc12c",
   "metadata": {},
   "outputs": [],
   "source": []
  }
 ],
 "metadata": {
  "kernelspec": {
   "display_name": "Python 3 (ipykernel)",
   "language": "python",
   "name": "python3"
  },
  "language_info": {
   "codemirror_mode": {
    "name": "ipython",
    "version": 3
   },
   "file_extension": ".py",
   "mimetype": "text/x-python",
   "name": "python",
   "nbconvert_exporter": "python",
   "pygments_lexer": "ipython3",
   "version": "3.11.7"
  }
 },
 "nbformat": 4,
 "nbformat_minor": 5
}
