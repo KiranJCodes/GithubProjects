{
 "cells": [
  {
   "cell_type": "code",
   "execution_count": 1,
   "id": "db351383-2182-4199-b0cf-f5e43f8d37cb",
   "metadata": {},
   "outputs": [],
   "source": [
    "# Create datasets for batsmen and bowlers"
   ]
  },
  {
   "cell_type": "code",
   "execution_count": null,
   "id": "bcba0b18-54a1-4659-b37b-8769ba2776cc",
   "metadata": {},
   "outputs": [],
   "source": [
    "# Bowlers"
   ]
  },
  {
   "cell_type": "code",
   "execution_count": 3,
   "id": "c0a00c0f-84eb-4744-927d-c002a2a1e0ea",
   "metadata": {},
   "outputs": [],
   "source": [
    "Bowlers = {'Match1':\n",
    "           {'Jadeja':[],'Noor':[]}\n",
    "          }"
   ]
  },
  {
   "cell_type": "code",
   "execution_count": null,
   "id": "25d58b1e-b081-4526-962e-95e0d85cec71",
   "metadata": {},
   "outputs": [],
   "source": [
    "Jadeja = {}"
   ]
  },
  {
   "cell_type": "code",
   "execution_count": null,
   "id": "31504f9c-c6b7-4d3e-af17-8ad13b3ea954",
   "metadata": {},
   "outputs": [],
   "source": [
    "Match1 = [wickets,balls,runs]\n",
    "matchinfo = {'overs': 4, 'runs': 25, 'wickets': 2, 'dots': 10, 'maidens': 1}"
   ]
  },
  {
   "cell_type": "code",
   "execution_count": 4,
   "id": "e9b271c7-18da-4b48-87bb-6f0e0b340d78",
   "metadata": {},
   "outputs": [],
   "source": [
    "# Batsmen"
   ]
  },
  {
   "cell_type": "code",
   "execution_count": 6,
   "id": "b5866d71-dd05-41af-8ed4-420ec45f9bf8",
   "metadata": {},
   "outputs": [],
   "source": [
    "matchinfobat = {'overs': 4, 'runs': 25,'4s':2,'6s':2,'OUT':0}"
   ]
  },
  {
   "cell_type": "code",
   "execution_count": 8,
   "id": "9b62d9cc-8df0-45f7-a4a2-0a0067f84695",
   "metadata": {},
   "outputs": [],
   "source": [
    "batsmen = {'Match1':\n",
    "          {'Conway':matchinfobat,\n",
    "          'Gaikwad':matchinfobat}\n",
    "          }"
   ]
  },
  {
   "cell_type": "code",
   "execution_count": 41,
   "id": "82187b66-604d-42fb-9e89-50bf3f56fc4d",
   "metadata": {},
   "outputs": [
    {
     "data": {
      "text/plain": [
       "dict_keys(['overs', 'runs', '4s', '6s', 'OUT'])"
      ]
     },
     "execution_count": 41,
     "metadata": {},
     "output_type": "execute_result"
    }
   ],
   "source": [
    "batsmen['Match1']['Conway'].keys()"
   ]
  },
  {
   "cell_type": "code",
   "execution_count": 51,
   "id": "00ee48a0-5539-4014-b376-cf6ead32ea4d",
   "metadata": {},
   "outputs": [
    {
     "name": "stdout",
     "output_type": "stream",
     "text": [
      "Conway\n",
      "_______________\n",
      " overs | 4\n",
      " runs | 25\n",
      " 4s | 2\n",
      " 6s | 2\n",
      " OUT | 0\n",
      "Gaikwad\n",
      "_______________\n",
      " overs | 4\n",
      " runs | 25\n",
      " 4s | 2\n",
      " 6s | 2\n",
      " OUT | 0\n"
     ]
    }
   ],
   "source": [
    "# Go through all Batsmen\n",
    "for i in batsmen:\n",
    "    # Go thorugh indivudual names\n",
    "    for x in batsmen[i]:\n",
    "        print(x)\n",
    "        print(\"_\"*15)\n",
    "        # Go through Ind stats\n",
    "        for stats in batsmen[i][x]:\n",
    "            print(f\" {stats} | {batsmen[i][x][stats]}\")\n"
   ]
  },
  {
   "cell_type": "code",
   "execution_count": 34,
   "id": "34e59738-3ece-4daa-816a-4c49233d973e",
   "metadata": {},
   "outputs": [
    {
     "name": "stdout",
     "output_type": "stream",
     "text": [
      "Conway\n",
      "Gaikwad\n"
     ]
    }
   ],
   "source": [
    "for i in batsmen[i]:\n",
    "    print(i)\n"
   ]
  },
  {
   "cell_type": "code",
   "execution_count": 23,
   "id": "c589e2d1-d00a-482e-afa8-faf20fd05fc1",
   "metadata": {},
   "outputs": [
    {
     "data": {
      "text/plain": [
       "dict_items([('Match1', {'Conway': {'overs': 4, 'runs': 25, '4s': 2, '6s': 2, 'OUT': 0}, 'Gaikwad': {'overs': 4, 'runs': 25, '4s': 2, '6s': 2, 'OUT': 0}})])"
      ]
     },
     "execution_count": 23,
     "metadata": {},
     "output_type": "execute_result"
    }
   ],
   "source": [
    "batsmen.items()"
   ]
  },
  {
   "cell_type": "code",
   "execution_count": null,
   "id": "68a6c653-83aa-4c0d-abbf-1f8e6aada6a2",
   "metadata": {},
   "outputs": [],
   "source": []
  }
 ],
 "metadata": {
  "kernelspec": {
   "display_name": "Python 3 (ipykernel)",
   "language": "python",
   "name": "python3"
  },
  "language_info": {
   "codemirror_mode": {
    "name": "ipython",
    "version": 3
   },
   "file_extension": ".py",
   "mimetype": "text/x-python",
   "name": "python",
   "nbconvert_exporter": "python",
   "pygments_lexer": "ipython3",
   "version": "3.11.7"
  }
 },
 "nbformat": 4,
 "nbformat_minor": 5
}
